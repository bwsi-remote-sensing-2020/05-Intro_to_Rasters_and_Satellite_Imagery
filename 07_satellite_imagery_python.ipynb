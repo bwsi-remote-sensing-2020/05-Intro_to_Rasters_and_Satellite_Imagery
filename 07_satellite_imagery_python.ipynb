{
 "cells": [
  {
   "cell_type": "markdown",
   "metadata": {
    "colab_type": "text",
    "id": "view-in-github"
   },
   "source": [
    "<a href=\"https://colab.research.google.com/github/bwsi-hadr/07-Satellite_Image_Processing_Using_Python/blob/master/07_satellite_imagery_python.ipynb\" target=\"_parent\"><img src=\"https://colab.research.google.com/assets/colab-badge.svg\" alt=\"Open In Colab\"/></a>"
   ]
  },
  {
   "cell_type": "markdown",
   "metadata": {
    "colab_type": "text",
    "id": "5RJmSPuy5Dtx"
   },
   "source": [
    "# Satellite Image Processing Using Python\n",
    "\n",
    "*Guest Lecturer: Sean Anklam*\n",
    "\n",
    "GDAL is a powerful and mature library for reading, writing and warping raster datasets, written in C++ with bindings to other languages. There are a variety of geospatial libraries available on the python package index, and almost all of them depend on GDAL. One such python library developed and supported by Mapbox, rasterio, builds on top of GDAL’s many features, but provides a more pythonic interface and supports many of the features and formats that GDAL supports. Both GDAL and rasterio are constantly being updated and improved: As of writing this tutorial (July 2020), GDAL is at version 3.1.1 and rasterio is at version 1.1.5.\n",
    "\n"
   ]
  },
  {
   "cell_type": "markdown",
   "metadata": {
    "colab_type": "text",
    "id": "ckK_39PX5Dt3"
   },
   "source": [
    "## 1. Loading and viewing Landsat 8 satellite imagery\n",
    "\n",
    "The Landsat program is the longest-running civilian satellite imagery program, with the first satellite launched in 1972 by the US Geological Survey. Landsat 8 is the latest satellite in this program, and was launched in 2013. Landsat observations are processed into “scenes”, each of which is approximately 183 km x 170 km, with a spatial resolution of 30 meters and a temporal resolution of 16 days. The duration of the landsat program makes it an attractive source of medium-scale imagery for land surface change analyses. Landsat is multiband imagery, you can read more about it here.\n",
    "\n",
    "One reason we’ll use Landsat 8 for this lesson is that the entire Landsat 8 archive is hosted by various commercial Cloud providers with free public access (AWS and Google Cloud)!\n",
    "\n",
    "We start by importing all the python libraries we need in this tutorial:"
   ]
  },
  {
   "cell_type": "code",
   "execution_count": null,
   "metadata": {
    "colab": {},
    "colab_type": "code",
    "id": "4z6etayY5Dt6"
   },
   "outputs": [],
   "source": [
    "# need to specify location of some certificates for rasterio\n",
    "!export CURL_CA_BUNDLE=/etc/ssl/certs/ca-certificates.crt\n",
    "try:\n",
    "  import rasterio\n",
    "  import rasterio.plot\n",
    "except:\n",
    "  !pip install rasterio\n",
    "  import rasterio\n",
    "  import rasterio.plot\n",
    "  \n",
    "try:\n",
    "  import pyproj\n",
    "except:\n",
    "  !pip install pyproj\n",
    "  import pyproj\n",
    "  \n",
    "import gdal\n",
    "import numpy as np\n",
    "import matplotlib\n",
    "import matplotlib.pyplot as plt\n",
    "from pyproj import Transformer"
   ]
  },
  {
   "cell_type": "markdown",
   "metadata": {
    "colab_type": "text",
    "id": "5_I72fN75DuE"
   },
   "source": [
    "### Satellite archives on the Cloud \n",
    "\n",
    "A single Landsat8 scene is about 1 Gb in size since it contains a large array of data for each imagery band. Images are often grouped into a single .tar.gz file, which requires scientists to download the entire 1 Gb, even if you are just interested in a single band or subset of the image. To circumvent downloading, a new format has been proposed for Cloud storage called Cloud-optimized Geotiffs (COGs), to allow easy access to individual bands or even subsets of single images.\n",
    "\n",
    "In a strict sense, the Landsat images on AWS and Google Cloud are not COGs (you can validate the format with online tools such as this - http://cog-validate.radiant.earth/html). Nevertheless, the files are stored as tiled Geotiffs, so many COG features still work."
   ]
  },
  {
   "cell_type": "markdown",
   "metadata": {
    "colab_type": "text",
    "id": "OulHvQ7v5DuG"
   },
   "source": [
    "### AWS versus Google Cloud\n",
    "\n",
    "You can use NASA’s Earthdata Search website to discover data. Landsat images are organized by ‘path’ and ‘row’. We’ve chosen a scenes from path 42, row 34, that doesn’t have many clouds present (LC08_L1TP_042034_20170616_20170629_01_T1). Note that ‘T1’ stands for ‘Tier 1’ (for analytic use), and ‘RT’ stands for ‘Real-time’, for which quality control is not as rigorous. Read more about the various Landsat formats and collections here. ​ At first glance it seems that you can find this data on both AWS or Google Cloud, for example look at the band 4 image for the date we selected: ​\n",
    "\n",
    "http://landsat-pds.s3.amazonaws.com/c1/L8/042/034/LC08_L1TP_042034_20170616_20170629_01_T1/LC08_L1TP_042034_20170616_20170629_01_T1_B4.TIF ​ ​\n",
    "\n",
    "Or, the same file is available on Google Cloud storage: ​\n",
    "\n",
    "https://storage.googleapis.com/gcp-public-data-landsat/LC08/01/042/034/LC08_L1TP_042034_20170616_20170629_01_T1/LC08_L1TP_042034_20170616_20170629_01_T1_B4.TIF"
   ]
  },
  {
   "cell_type": "code",
   "execution_count": null,
   "metadata": {
    "colab": {
     "base_uri": "https://localhost:8080/",
     "height": 89
    },
    "colab_type": "code",
    "id": "CpwCy9cL5DuJ",
    "outputId": "d92ebc47-5436-48d1-c959-a48d8f5f6382"
   },
   "outputs": [],
   "source": [
    "print('Landsat on Google:')\n",
    "filepath = 'https://storage.googleapis.com/gcp-public-data-landsat/LC08/01/042/034/LC08_L1TP_042034_20170616_20170629_01_T1/LC08_L1TP_042034_20170616_20170629_01_T1_B4.TIF'\n",
    "\n",
    "with rasterio.open(filepath) as src:\n",
    "    print(src.profile)"
   ]
  },
  {
   "cell_type": "code",
   "execution_count": null,
   "metadata": {},
   "outputs": [],
   "source": [
    "aws_base_url = 'http://landsat-pds.s3.amazonaws.com/c1/L8/042/034'"
   ]
  },
  {
   "cell_type": "code",
   "execution_count": null,
   "metadata": {
    "colab": {
     "base_uri": "https://localhost:8080/",
     "height": 89
    },
    "colab_type": "code",
    "id": "3WhpEor15DuV",
    "outputId": "881b49dd-76f6-4b75-e07a-af499654bd89"
   },
   "outputs": [],
   "source": [
    "print('Landsat on AWS:')\n",
    "filepath = f'{aws_base_url}/LC08_L1TP_042034_20170616_20170629_01_T1/LC08_L1TP_042034_20170616_20170629_01_T1_B4.TIF'\n",
    "with rasterio.open(filepath) as src:\n",
    "    print(src.profile)"
   ]
  },
  {
   "cell_type": "markdown",
   "metadata": {
    "colab_type": "text",
    "id": "zRmlCeuv5Duf"
   },
   "source": [
    "### What just happened? \n",
    "\n",
    "If you’re familiar with programming in python, you’ve probably seen context managers before. This context manager, rasterio.open() functions like the python standard library function open for opening files. The block of code within the with … as statement is executed once the file is opened, and the file is closed when the context manager exits. This means that we don’t have to manually close the raster file, as the context manager handles that for us.\n",
    "\n",
    "Instead of a local file path, rasterio knows how to read URLs too, so we just passed the link to the file on AWS.\n",
    "\n",
    "src.profile is a collection of metadata for the file. We see that it is a Geotiff (Gtiff), the image values are unsigned integer format, nodata values are not assigned, the image has a dimensions of 7711x7531, is a single band, is in UTM coordinates, has a simple affine transformation, is chunked into smaller 512x512 arrays, tiled and compressed on the AWS hard drive where it is stored.\n",
    "\n",
    "### Note that we have not actually downloaded the image! We just read the metadata.\n",
    "\n",
    "Did you catch the subtle differences between the data on AWS versus the data on Google? The image block sizes, or “tiling” is different, as is the compression scheme. It also turns out that AWS stores pre-made image overviews, but Google does not. It is important to realize that not all archives are the same! In fact the Google Cloud storage archive is a complete mirror of the full USGS archive, whereas as of writing this, AWS only has collection 1 scenes after 2017. In general, performance will be best if you are accessing data locally (so if you are running this notebook on AWS, use the landsat public data on AWS)! We are going to use the AWS archive for the rest of this lesson because of the convenience of overviews:"
   ]
  },
  {
   "cell_type": "markdown",
   "metadata": {
    "colab_type": "text",
    "id": "C5j6a5S35Duh"
   },
   "source": [
    "## 2. Plot a low-resolution overview"
   ]
  },
  {
   "cell_type": "code",
   "execution_count": null,
   "metadata": {
    "colab": {
     "base_uri": "https://localhost:8080/",
     "height": 469
    },
    "colab_type": "code",
    "id": "20MBNN7J5Duk",
    "outputId": "639cffaa-c75d-41d0-d28a-e701b330cc0f"
   },
   "outputs": [],
   "source": [
    "# The grid of raster values can be accessed as a numpy array and plotted:\n",
    "with rasterio.open(filepath) as src:\n",
    "   oviews = src.overviews(1) # list of overviews from biggest to smallest\n",
    "   oview = oviews[-1] # let's look at the smallest thumbnail\n",
    "   print('Decimation factor= {}'.format(oview))\n",
    "   # NOTE this is using a 'decimated read' (http://rasterio.readthedocs.io/en/latest/topics/resampling.html)\n",
    "   thumbnail = src.read(1, out_shape=(1, int(src.height // oview), int(src.width // oview)))\n",
    "\n",
    "print('array type: ',type(thumbnail))\n",
    "print(thumbnail)\n",
    "\n",
    "plt.imshow(thumbnail)\n",
    "plt.colorbar()\n",
    "plt.title('Overview - Band 4 {}'.format(thumbnail.shape))\n",
    "plt.xlabel('Column #')\n",
    "plt.ylabel('Row #')"
   ]
  },
  {
   "cell_type": "markdown",
   "metadata": {
    "colab_type": "text",
    "id": "f62YWUoT5Duw"
   },
   "source": [
    "Earlier we saw in the metadata that a no-data value wasn’t set, but pixels outside the imaged area are clearly set to “0”. Images commonly look like this because of satellite orbits and the fact that the Earth is rotating as imagery is acquired! The colormap is often improved if we change the out of bounds area to NaN. To do this we have to convert the datatype from uint16 to float32 (so be aware the array with NaNs will take 2x the storage space). The serrated edge is due to the coarse sampling of the full resolution image that we are doing here."
   ]
  },
  {
   "cell_type": "code",
   "execution_count": null,
   "metadata": {
    "colab": {
     "base_uri": "https://localhost:8080/",
     "height": 330
    },
    "colab_type": "code",
    "id": "vBuWOBlp5Duy",
    "outputId": "d788416d-ff50-4db5-d777-d41413853e40"
   },
   "outputs": [],
   "source": [
    "with rasterio.open(filepath) as src:\n",
    "    oviews = src.overviews(1)\n",
    "    oview = oviews[-1]\n",
    "    print('Decimation factor= {}'.format(oview))\n",
    "    thumbnail = src.read(1, out_shape=(1, int(src.height // oview), int(src.width // oview)))\n",
    "\n",
    "    thumbnail = thumbnail.astype('f4')\n",
    "    thumbnail[thumbnail==0] = np.nan\n",
    "\n",
    "plt.imshow(thumbnail)\n",
    "plt.colorbar()\n",
    "plt.title('Overview - Band 4 {}'.format(thumbnail.shape))\n",
    "plt.xlabel('Column #')\n",
    "plt.ylabel('Row #')\n"
   ]
  },
  {
   "cell_type": "markdown",
   "metadata": {
    "colab_type": "text",
    "id": "jSAvEjZo5Du5"
   },
   "source": [
    "Another nice feature of COGs is that you can request a subset of the image and only that subset will be downloaded to your computer:"
   ]
  },
  {
   "cell_type": "code",
   "execution_count": null,
   "metadata": {
    "colab": {
     "base_uri": "https://localhost:8080/",
     "height": 572
    },
    "colab_type": "code",
    "id": "gxnU1ISB5Du6",
    "outputId": "49c384ee-f7b0-44e1-9c65-4fa51bc72b70"
   },
   "outputs": [],
   "source": [
    "#https://rasterio.readthedocs.io/en/latest/topics/windowed-rw.html\n",
    "#rasterio.windows.Window(col_off, row_off, width, height)\n",
    "window = rasterio.windows.Window(1024, 1024, 1280, 2560)\n",
    "\n",
    "with rasterio.open(filepath) as src:\n",
    "    subset = src.read(1, window=window)\n",
    "\n",
    "plt.figure(figsize=(6,8.5))\n",
    "plt.imshow(subset)\n",
    "plt.colorbar(shrink=0.5)\n",
    "plt.title(f'Band 4 Subset\\n{window}')\n",
    "plt.xlabel('Column #')\n",
    "plt.ylabel('Row #')"
   ]
  },
  {
   "cell_type": "markdown",
   "metadata": {
    "colab_type": "text",
    "id": "GTpEIQIJ5DvA"
   },
   "source": [
    "## 3. Processing: NDVI\n",
    "\n",
    "The Normalized Difference Vegetation Index is a simple indicator that can be used to assess whether the target includes healthy vegetation. This calculation uses two bands of a multispectral image dataset, the Red and Near-Infrared (NIR) bands:\n",
    "\n",
    "For this lesson, we’ll use the NIR and Red bands from a Landsat-8 scene above part of the central valley and the Sierra Nevada in California. We’ll be using Level 1TP datasets, orthorectified, map-projected images containing radiometrically calibrated data.\n",
    "\n",
    "### Bands\n",
    "Red: Band 4\n",
    "Near-Infrared: Band 5\n",
    "Because of the longevity of the landsat mission and because different sensors on the satellite record data at different resolutions, these bands are individually stored as single-band raster files. Some other rasters may store multiple bands in the same file.\n"
   ]
  },
  {
   "cell_type": "code",
   "execution_count": null,
   "metadata": {
    "colab": {
     "base_uri": "https://localhost:8080/",
     "height": 345
    },
    "colab_type": "code",
    "id": "ytKUYL8B5DvC",
    "outputId": "9db5c657-595a-4567-b31d-c7166d0edacd"
   },
   "outputs": [],
   "source": [
    "# Use the same example image:\n",
    "date = '2017-06-16'\n",
    "url = f'{aws_base_url}/LC08_L1TP_042034_20170616_20170629_01_T1/'\n",
    "redband = 'LC08_L1TP_042034_20170616_20170629_01_T1_B{}.TIF'.format(4)\n",
    "nirband = 'LC08_L1TP_042034_20170616_20170629_01_T1_B{}.TIF'.format(5)\n",
    "\n",
    "with rasterio.open(url+redband) as src:\n",
    "    profile = src.profile\n",
    "    oviews = src.overviews(1) # list of overviews from biggest to smallest\n",
    "    oview = oviews[1]  # Use second-highest resolution overview\n",
    "    print('Decimation factor= {}'.format(oview))\n",
    "    red = src.read(1, out_shape=(1, int(src.height // oview), int(src.width // oview)))\n",
    "\n",
    "plt.imshow(red)\n",
    "plt.colorbar()\n",
    "plt.title('{}\\nRed {}'.format(redband, red.shape))\n",
    "plt.xlabel('Column #')\n",
    "plt.ylabel('Row #')"
   ]
  },
  {
   "cell_type": "code",
   "execution_count": null,
   "metadata": {
    "colab": {
     "base_uri": "https://localhost:8080/",
     "height": 327
    },
    "colab_type": "code",
    "id": "iwTWaAhv5DvI",
    "outputId": "8d814f4b-1c39-454a-d18d-88d2a88f6b83"
   },
   "outputs": [],
   "source": [
    "with rasterio.open(url+nirband) as src:\n",
    "    oviews = src.overviews(1) # list of overviews from biggest to smallest\n",
    "    oview = oviews[1]  # Use second-highest resolution overview\n",
    "    nir = src.read(1, out_shape=(1, int(src.height // oview), int(src.width // oview)))\n",
    "\n",
    "plt.imshow(nir)\n",
    "plt.colorbar()\n",
    "plt.title('{}\\nNIR {}'.format(nirband, nir.shape))\n",
    "plt.xlabel('Column #')\n",
    "plt.ylabel('Row #')"
   ]
  },
  {
   "cell_type": "code",
   "execution_count": null,
   "metadata": {
    "colab": {
     "base_uri": "https://localhost:8080/",
     "height": 367
    },
    "colab_type": "code",
    "id": "L1hAxboi5DvO",
    "outputId": "a1ec7c98-30aa-4d53-ae54-e2406fa2c337"
   },
   "outputs": [],
   "source": [
    "def calc_ndvi(nir,red):\n",
    "    '''Calculate NDVI from integer arrays'''\n",
    "    with np.errstate(invalid='ignore'):\n",
    "        nir = nir.astype('f4')\n",
    "        red = red.astype('f4')\n",
    "        ndvi = (nir - red) / (nir + red)\n",
    "    return ndvi\n",
    "\n",
    "ndvi = calc_ndvi(nir,red)\n",
    "plt.imshow(ndvi, cmap='RdYlGn')\n",
    "plt.colorbar()\n",
    "plt.title('NDVI {}'.format(date))\n",
    "plt.xlabel('Column #')\n",
    "plt.ylabel('Row #')"
   ]
  },
  {
   "cell_type": "markdown",
   "metadata": {
    "colab_type": "text",
    "id": "MhltAt_F5DvU"
   },
   "source": [
    "## 4. Save the NDVI raster to local disk\n",
    "\n",
    "So far, we have read in a cloud-optimized geotiff from the Cloud into our computer memory (RAM), and done a simple computation. What if we want to save this result locally for future use?\n",
    "\n",
    "Since we have used a subsampled overview, we have to modify the orginal metadata before saving! In particular, the Affine matrix describing the coordinates is different (new resolution and extents, and we’ve changed the datatype). We’ll stick with Geotiff, but note that it is no longer cloud-optimized."
   ]
  },
  {
   "cell_type": "code",
   "execution_count": null,
   "metadata": {
    "colab": {},
    "colab_type": "code",
    "id": "E0ampI7o5DvV"
   },
   "outputs": [],
   "source": [
    "localname = 'LC08_L1TP_042034_20170616_20170629_01_T1_NDVI_OVIEW.tif'\n",
    "\n",
    "with rasterio.open(url+nirband) as src:\n",
    "    profile = src.profile.copy()\n",
    "\n",
    "    aff = src.transform\n",
    "    newaff = rasterio.Affine(aff.a * oview, aff.b, aff.c,\n",
    "                             aff.d, aff.e * oview, aff.f)\n",
    "    profile.update({\n",
    "            'dtype': 'float32',\n",
    "            'height': ndvi.shape[0],\n",
    "            'width': ndvi.shape[1],\n",
    "            'transform': newaff})  \n",
    "\n",
    "    with rasterio.open(localname, 'w', **profile) as dst:\n",
    "        dst.write_band(1, ndvi)"
   ]
  },
  {
   "cell_type": "markdown",
   "metadata": {
    "colab_type": "text",
    "id": "knHoK1Rk5DvZ"
   },
   "source": [
    "Be sure to check that the saved file looks the same"
   ]
  },
  {
   "cell_type": "code",
   "execution_count": null,
   "metadata": {
    "colab": {
     "base_uri": "https://localhost:8080/",
     "height": 367
    },
    "colab_type": "code",
    "id": "4aOLsljt5Dvc",
    "outputId": "094526f9-dce8-4dda-f468-34613ec99ef1"
   },
   "outputs": [],
   "source": [
    "# Reopen the file and plot\n",
    "with rasterio.open(localname) as src:\n",
    "    print(src.profile)\n",
    "    ndvi = src.read(1) # read the entire array\n",
    "\n",
    "plt.imshow(ndvi, cmap='RdYlGn')\n",
    "plt.colorbar()\n",
    "plt.title('NDVI {}'.format(date))\n",
    "plt.xlabel('Column #')\n",
    "plt.ylabel('Row #')"
   ]
  },
  {
   "cell_type": "markdown",
   "metadata": {
    "colab_type": "text",
    "id": "E2QnZ_Jl5Dvf"
   },
   "source": [
    "Note that rasterio also has a ‘convenience method’ for plotting with georeferenced coordinates"
   ]
  },
  {
   "cell_type": "code",
   "execution_count": null,
   "metadata": {
    "colab": {
     "base_uri": "https://localhost:8080/",
     "height": 281
    },
    "colab_type": "code",
    "id": "DQ0MO21E5Dvg",
    "outputId": "234a1429-c908-4a03-f2b1-838ac6754e0f"
   },
   "outputs": [],
   "source": [
    "# in this case, coordinates are Easting [m] and Northing [m], and colorbar is default instead of RdYlGn\n",
    "with rasterio.open(localname) as src:\n",
    "    fig, ax = plt.subplots()\n",
    "    rasterio.plot.show(src, ax=ax, title='NDVI')"
   ]
  },
  {
   "cell_type": "markdown",
   "metadata": {
    "colab_type": "text",
    "id": "v-7qSxz25Dvm"
   },
   "source": [
    "## 5. Spatial indexing and extracting values\n",
    "\n",
    "Raster images really have two sets of coordinates. First, ‘image coordinates’ correspond to the row and column for a specific pixel. Second, the ‘spatial coordinates’ correspond to the location of each pixel on the surface of the Earth. Rasterio makes it convenient to use both coordinate systems.\n",
    "\n",
    "Lets say you want the value of NDVI at a specific point in this scene. For example Fresno, CA (-119.770163586, 36.741997032). But the image is in UTM coordinates, so you have to first convert these points to UTM (Many websites will do this for you https://www.geoplaner.com), or you can use the pyproj library. Be warned that this only works if you read the dataset at it’s full resolution (if you do decimated or windowed reads of the file, you need to adjust the affine transform)."
   ]
  },
  {
   "cell_type": "code",
   "execution_count": null,
   "metadata": {
    "colab": {
     "base_uri": "https://localhost:8080/",
     "height": 260
    },
    "colab_type": "code",
    "id": "MVlokr_L5Dvn",
    "outputId": "0412fade-dcb6-4bc8-93a4-3065e96b4293"
   },
   "outputs": [],
   "source": [
    "with rasterio.open(localname) as src:\n",
    "    # Use pyproj to convert point coordinates\n",
    "\n",
    "    #Create Transformer objects to transform images in either direction\n",
    "    utm2lonlat = Transformer.from_crs(src.crs, \"epsg:4326\", always_xy=True) \n",
    "    lonlat2utm = Transformer.from_crs(\"epsg:4326\", src.crs, always_xy=True)\n",
    "    \n",
    "    #always_xy is needed to ensure the coordinates are processed in the correct order (i.e. lat,lon vs lon,lat)\n",
    "\n",
    "    lon,lat = (-119.770163586, 36.741997032)\n",
    "    east,north = lonlat2utm.transform(lon, lat)\n",
    "\n",
    "    print('Fresno NDVI\\n-------')\n",
    "    print(f'lon,lat=\\t\\t({lon:.2f},{lat:.2f})')\n",
    "    print(f'easting,northing=\\t({east:g},{north:g})')\n",
    "\n",
    "    # What is the corresponding row and column in our image?\n",
    "    row, col = src.index(east, north) # spatial --> image coordinates\n",
    "    print(f'row,col=\\t\\t({row},{col})')\n",
    "\n",
    "    # What is the NDVI?\n",
    "    value = ndvi[row, col]\n",
    "    print(f'ndvi=\\t\\t\\t{value:.2f}')\n",
    "\n",
    "\n",
    "    # Or if you see an interesting feature and want to know the spatial coordinates:\n",
    "    row, col = 200, 450\n",
    "    east, north = src.xy(row,col) # image --> spatial coordinates\n",
    "    lon,lat = utm2lonlat.transform(east, north)\n",
    "    value = ndvi[row, col]\n",
    "    print(f'''\n",
    "          Interesting Feature\n",
    "          -------\n",
    "          row,col=          ({row},{col})\n",
    "          easting,northing= ({east:g},{north:g})\n",
    "          lon,lat=          ({lon:.2f},{lat:.2f})\n",
    "          ndvi=              {value:.2f}\n",
    "          ''')"
   ]
  },
  {
   "cell_type": "markdown",
   "metadata": {
    "colab_type": "text",
    "id": "FY1j4SRc5Dvu"
   },
   "source": [
    "## 6. Calculate change in NDVI over time\n",
    "\n",
    "Let’s take a look at the difference in NDVI between a scene in June 2013 and June 2017. If you went to the AWS Landsat Archive page, you probably noticed that it isn’t obvious how to search and discover images (most of the time you probably won’t know the row, path, or full URL of images over your area of interest!) There are many options for searching, graphical web applications like NASA’s Earthdata Search, or convenient Python tools like DevSeed’s sat-search, among many others! We won’t go into these tools here, but we encourage you to experiment with your own image scenes. Here is a file from June 2018 that was easy to find with Landsat for AWS using the Path and Row from the earlier URL:\n",
    "\n",
    "https://landsatonaws.com/L8/042/034/LC08_L1TP_042034_20180619_20180703_01_T1\n",
    "\n",
    "With the band 4 imagery URL:\n",
    "\n",
    "http://landsat-pds.s3.amazonaws.com/c1/L8/042/034/LC08_L1TP_042034_20180619_20180703_01_T1/LC08_L1TP_042034_20180619_20180703_01_T1_B4.TIF"
   ]
  },
  {
   "cell_type": "code",
   "execution_count": null,
   "metadata": {
    "colab": {
     "base_uri": "https://localhost:8080/",
     "height": 141
    },
    "colab_type": "code",
    "id": "9FrOlzGq5Dvw",
    "outputId": "021bb43e-c9c1-4977-d349-2dba4a15cf79"
   },
   "outputs": [],
   "source": [
    "# Use the same example image:\n",
    "date2 = '2018-06-19'\n",
    "url2 = f'{aws_base_url}/LC08_L1TP_042034_20180619_20180703_01_T1/'\n",
    "redband2 = 'LC08_L1TP_042034_20180619_20180703_01_T1_B{}.TIF'.format(4)\n",
    "nirband2 = 'LC08_L1TP_042034_20180619_20180703_01_T1_B{}.TIF'.format(5)\n",
    "\n",
    "filepath = url2+redband2\n",
    "with rasterio.open(filepath) as src:\n",
    "    print('Opening:', filepath)\n",
    "    oviews = src.overviews(1) # list of overviews from biggest to smallest\n",
    "    oview = oviews[1]  # Use second-highest resolution overview\n",
    "    print('Decimation factor= {}'.format(oview))\n",
    "    red2 = src.read(1, out_shape=(1, int(src.height // oview), int(src.width // oview)))\n",
    "\n",
    "filepath = url2+nirband2\n",
    "with rasterio.open(filepath) as src:\n",
    "    print('Opening:', filepath)\n",
    "    oviews = src.overviews(1) # list of overviews from biggest to smallest\n",
    "    oview = oviews[1]  # Use second-highest resolution overview\n",
    "    print('Decimation factor= {}'.format(oview))\n",
    "    nir2 = src.read(1, out_shape=(1, int(src.height // oview), int(src.width // oview)))\n",
    "\n",
    "ndvi2 = calc_ndvi(nir2, red2)"
   ]
  },
  {
   "cell_type": "markdown",
   "metadata": {
    "colab_type": "text",
    "id": "qk7zQMCi5Dv0"
   },
   "source": [
    "And plot the results with matplotlib: "
   ]
  },
  {
   "cell_type": "code",
   "execution_count": null,
   "metadata": {
    "colab": {
     "base_uri": "https://localhost:8080/",
     "height": 302
    },
    "colab_type": "code",
    "id": "55ILwEZ45Dv1",
    "outputId": "2427a695-f7b0-447b-d64b-1e16be361c3e"
   },
   "outputs": [],
   "source": [
    "fig, axes = plt.subplots(1,3, figsize=(14,6), sharex=True, sharey=True)\n",
    "\n",
    "plt.sca(axes[0])\n",
    "plt.imshow(ndvi, cmap='RdYlGn', vmin=-1, vmax=1)\n",
    "plt.colorbar(shrink=0.5)\n",
    "plt.title('NDVI {}'.format(date))\n",
    "plt.xlabel('Column #')\n",
    "plt.ylabel('Row #')\n",
    "\n",
    "plt.sca(axes[1])\n",
    "plt.imshow(ndvi2, cmap='RdYlGn', vmin=-1, vmax=1)\n",
    "plt.colorbar(shrink=0.5)\n",
    "plt.title('NDVI {}'.format(date2))\n",
    "\n",
    "plt.sca(axes[2])\n",
    "plt.imshow(ndvi2 - ndvi, cmap='bwr', vmin=-1, vmax=1)\n",
    "plt.colorbar(shrink=0.5)\n",
    "plt.title('Diff ({} - {})'.format(date2, date))"
   ]
  },
  {
   "cell_type": "markdown",
   "metadata": {
    "colab_type": "text",
    "id": "o3qssqyt5Dv5"
   },
   "source": [
    "### What just happened?\n",
    "\n",
    "We just loaded 4 decimated Landsat 8 band images into memory and computed the difference in NDVI between two dates. That was relatively easy because these two rasters happen to use the same coordinate system and grid. This is know as ‘Analysis Ready Data’. In the geosciences, we commonly have data in WGS84 Lat, Lon. Or what if you want to compare to NDVI estimated from Sentinel-2 satellite acquisitions, which are on a different grid?"
   ]
  },
  {
   "cell_type": "markdown",
   "metadata": {
    "colab_type": "text",
    "id": "_nyxtqJ45Dv6"
   },
   "source": [
    "## 7. Advanced uses of rasterio\n",
    "\n",
    "Rasterio can also be used for masking, reprojecting, and regridding distinct datasets. Here is one simple example to reproject our local NDVI onto a WGS84 Lat/Lon Grid. The example creates a ‘VRT’ file, which is merely a ASCII text file describing the transformation and other image metadata. The array values do no need to be duplicated, the VRT file just contains a reference to the local file (LC08_L1TP_042034_20170616_20170629_01_T1_NDVI_OVIEW.tif). This is extremely useful to avoid duplicating lots of data and filling up your computer!"
   ]
  },
  {
   "cell_type": "code",
   "execution_count": null,
   "metadata": {
    "colab": {
     "base_uri": "https://localhost:8080/",
     "height": 281
    },
    "colab_type": "code",
    "id": "Y6KcrEQy5Dv8",
    "outputId": "5f173da2-d9ec-4316-d7f6-95ebf63c224b"
   },
   "outputs": [],
   "source": [
    "import rasterio.warp\n",
    "import rasterio.shutil\n",
    "\n",
    "localname = 'LC08_L1TP_042034_20170616_20170629_01_T1_NDVI_OVIEW.tif'\n",
    "vrtname = 'LC08_L1TP_042034_20170616_20170629_01_T1_NDVI_OVIEW_WGS84.vrt'\n",
    "\n",
    "with rasterio.open(localname) as src:\n",
    "    with rasterio.vrt.WarpedVRT(src, crs='epsg:4326', resampling=rasterio.enums.Resampling.bilinear) as vrt:\n",
    "        rasterio.shutil.copy(vrt, vrtname, driver='VRT')\n",
    "\n",
    "# Open the local warped file and plot\n",
    "# NOTE our coordinates have changed to lat, lon. we should probably crop the edge artifacts do to reprojection too!\n",
    "with rasterio.open(vrtname) as src:\n",
    "    rasterio.plot.show(src, title='NDVI', cmap='RdYlGn', vmin=-1, vmax=1)"
   ]
  },
  {
   "cell_type": "markdown",
   "metadata": {
    "colab_type": "text",
    "id": "nXVtwh_55DwB"
   },
   "source": [
    "The issue with VRTs is now you have two files and let’s say you want to share this image with a colleague. Also if you move things around on your computer, the paths might get mixed up, so in some cases it’s nice to save a complete reprojected file. The second code block does this, saving our NDVI as a Geotiff in WGS84:"
   ]
  },
  {
   "cell_type": "code",
   "execution_count": null,
   "metadata": {
    "colab": {},
    "colab_type": "code",
    "id": "UQhVyHn85DwC"
   },
   "outputs": [],
   "source": [
    "localname = 'LC08_L1TP_042034_20170616_20170629_01_T1_NDVI_OVIEW.tif'\n",
    "tifname = 'LC08_L1TP_042034_20170616_20170629_01_T1_NDVI_OVIEW_WGS84.tif'\n",
    "\n",
    "dst_crs = 'EPSG:4326'\n",
    "\n",
    "with rasterio.open(localname) as src:\n",
    "    profile = src.profile.copy()\n",
    "\n",
    "    transform, width, height = rasterio.warp.calculate_default_transform(\n",
    "        src.crs, dst_crs, src.width, src.height, *src.bounds)\n",
    "\n",
    "    profile.update({\n",
    "        'crs': dst_crs,\n",
    "        'transform': transform,\n",
    "        'width': width,\n",
    "        'height': height\n",
    "    })\n",
    "\n",
    "    with rasterio.open(tifname, 'w', **profile) as dst:\n",
    "        rasterio.warp.reproject(\n",
    "            source=rasterio.band(src, 1),\n",
    "            destination=rasterio.band(dst, 1),\n",
    "            src_transform=src.transform,\n",
    "            src_crs=src.crs,\n",
    "            dst_transform=transform,\n",
    "            dst_crs=dst_crs,\n",
    "            resampling=rasterio.warp.Resampling.bilinear)"
   ]
  },
  {
   "cell_type": "markdown",
   "metadata": {
    "colab": {},
    "colab_type": "code",
    "id": "po0tJ2XE-XwL"
   },
   "source": [
    "## 8. Other indices\n",
    "\n",
    "Throughout this lesson, we used the NDVI as an example of processing images. However, many more of these indices exist: for instance, the normalized difference water index (NDWI), the normalized difference built-up index (NDBI), and the chlorophyll index, among others.\n",
    "\n",
    "A lot more interesting indices can be found on the IDB: https://www.indexdatabase.de/\n",
    "\n",
    "As an exercise, find an interesting index (either on the IDB or on your own), choose a Landsat image for a location you're interested in, and calculate your chosen index over the image."
   ]
  },
  {
   "cell_type": "code",
   "execution_count": null,
   "metadata": {},
   "outputs": [],
   "source": []
  }
 ],
 "metadata": {
  "colab": {
   "include_colab_link": true,
   "name": "07_satellite_imagery_python.ipynb",
   "provenance": [],
   "toc_visible": true,
   "version": "0.3.2"
  },
  "kernelspec": {
   "display_name": "Python 3",
   "language": "python",
   "name": "python3"
  },
  "language_info": {
   "codemirror_mode": {
    "name": "ipython",
    "version": 3
   },
   "file_extension": ".py",
   "mimetype": "text/x-python",
   "name": "python",
   "nbconvert_exporter": "python",
   "pygments_lexer": "ipython3",
   "version": "3.7.6"
  }
 },
 "nbformat": 4,
 "nbformat_minor": 4
}

{
 "cells": [
  {
   "cell_type": "markdown",
   "metadata": {
    "colab_type": "text",
    "id": "view-in-github"
   },
   "source": [
    "<a href=\"https://colab.research.google.com/github/bwsi-hadr/07-Satellite_Image_Processing_Using_Python/blob/master/07b_Integrating_raster_and_vector_GIS_data.ipynb\" target=\"_parent\"><img src=\"https://colab.research.google.com/assets/colab-badge.svg\" alt=\"Open In Colab\"/></a>"
   ]
  },
  {
   "cell_type": "markdown",
   "metadata": {
    "colab_type": "text",
    "id": "W-z07O1UCoaq"
   },
   "source": [
    "# Integrating raster and vector GIS data\n",
    "We've now had experience working with both raster and vector GIS data individually. Now we'll look into how to integrate the two data types.\n",
    "\n"
   ]
  },
  {
   "cell_type": "code",
   "execution_count": null,
   "metadata": {
    "colab": {},
    "colab_type": "code",
    "id": "UFQMirIkCYmB"
   },
   "outputs": [],
   "source": [
    "# need to specify location of some certificates for rasterio\n",
    "!export CURL_CA_BUNDLE=/etc/ssl/certs/ca-certificates.crt\n",
    "try:\n",
    "  import rasterio\n",
    "  import rasterio.plot\n",
    "  import rasterio.merge \n",
    "  import rasterio.mask\n",
    "except:\n",
    "  !pip install rasterio\n",
    "  import rasterio\n",
    "  import rasterio.plot\n",
    "  import rasterio.merge\n",
    "  import rasterio.mask\n",
    "  \n",
    "try:\n",
    "  import rasterstats as rs\n",
    "except:\n",
    "  !pip install rasterstats  \n",
    "  import rasterstats as rs\n",
    "  \n",
    "try:\n",
    "  import pyproj\n",
    "except:\n",
    "  !pip install pyproj\n",
    "  import pyproj\n",
    "  \n",
    "import networkx as nx\n",
    "try:\n",
    "  import osmnx as ox\n",
    "except:\n",
    "  # osmnx depends on the system package libspatialindex\n",
    "  !apt install libspatialindex-dev\n",
    "  !pip install osmnx\n",
    "  import osmnx as ox\n",
    "\n",
    "try: \n",
    "  import geopandas as gpd\n",
    "except: \n",
    "  !pip install geopandas \n",
    "  import geopandas as gpd\n",
    "  \n",
    "try:\n",
    "  import contextily as ctx \n",
    "except:\n",
    "  # install dependencies for contextily\n",
    "  !apt install libproj-dev proj-data proj-bin\n",
    "  !apt install libgeos-dev\n",
    "  !pip install cython\n",
    "  !pip install cartopy\n",
    "  # install contextily\n",
    "  !pip install contextily==1.0rc1 --no-use-pep517 --no-cache-dir\n",
    "  import contextily as ctx\n",
    "  \n",
    "import fiona\n",
    "from shapely.geometry import Point, LineString, Polygon\n",
    "  \n",
    "import gdal\n",
    "import numpy as np\n",
    "import matplotlib\n",
    "import matplotlib.pyplot as plt"
   ]
  },
  {
   "cell_type": "markdown",
   "metadata": {
    "colab_type": "text",
    "id": "rM2YZXKcdnG_"
   },
   "source": [
    "## Loading landsat\n"
   ]
  },
  {
   "cell_type": "code",
   "execution_count": null,
   "metadata": {
    "colab": {
     "base_uri": "https://localhost:8080/",
     "height": 89
    },
    "colab_type": "code",
    "id": "NFH8_X-vdl0G",
    "outputId": "d2b987d3-9c5f-497d-f527-fd520b221d06"
   },
   "outputs": [],
   "source": [
    "print('Landsat on AWS:')\n",
    "filepath = 'http://landsat-pds.s3.amazonaws.com/c1/L8/021/030/LC08_L1TP_021030_20180702_20180716_01_T1/LC08_L1TP_021030_20180702_20180716_01_T1_B2.TIF'\n",
    "with rasterio.open(filepath) as src:\n",
    "    print(src.profile)\n",
    "\n"
   ]
  },
  {
   "cell_type": "markdown",
   "metadata": {
    "colab_type": "text",
    "id": "ke38sPdjH_z3"
   },
   "source": [
    "## Getting topological raster data\n",
    "We're going to get some elevation data from USGS. You can search for data products from USGS [here](https://viewer.nationalmap.gov/basic/#productGroupSearch). We are using elevation products (3DEP) at 1/3 arc-second (~10m) resolution. Each tile spans 1x1 degree.\n",
    "\n",
    "The files are available as .zip of [Erdas Imagine .img](https://gdal.org/drivers/raster/hfa.html) filetypes. We'll be using the rasterio `zip+https://` [syntax](https://rasterio.readthedocs.io/en/stable/topics/datasets.html) to get the unzipped .img files from the url."
   ]
  },
  {
   "cell_type": "code",
   "execution_count": null,
   "metadata": {
    "colab": {},
    "colab_type": "code",
    "id": "MaNzDVwGqjBF"
   },
   "outputs": [],
   "source": [
    "# Get raster of boston-area elevations (takes a while)\n",
    "tile1_url = 'zip+https://prd-tnm.s3.amazonaws.com/StagedProducts/Elevation/13/IMG/USGS_NED_13_n43w072_IMG.zip!USGS_NED_13_n43w072_IMG.img'\n",
    "tile2_url = 'zip+https://prd-tnm.s3.amazonaws.com/StagedProducts/Elevation/13/IMG/USGS_NED_13_n43w071_IMG.zip!USGS_NED_13_n43w071_IMG.img'\n",
    "\n",
    "# we'll write them to local files so we don't have to keep downloading\n",
    "local_tile1_location = 'local_tile1.tif'\n",
    "local_tile2_location = 'local_tile2.tif'"
   ]
  },
  {
   "cell_type": "markdown",
   "metadata": {
    "colab_type": "text",
    "id": "PztSP143wYx3"
   },
   "source": [
    "We'll write a local copy so we don't have to keep downloading"
   ]
  },
  {
   "cell_type": "code",
   "execution_count": null,
   "metadata": {
    "colab": {},
    "colab_type": "code",
    "id": "-tvq0764uJ3B"
   },
   "outputs": [],
   "source": [
    "def download_to_local(tile_url, local_tile_path):\n",
    "  with rasterio.Env():\n",
    "    with rasterio.open(tile_url) as src:\n",
    "      profile = src.profile\n",
    "      profile['dtype'] = 'float64'\n",
    "      profile['indexes'] = 1\n",
    "      print(profile)\n",
    "      with rasterio.open(local_tile_path, 'w', **profile) as dst:\n",
    "        dst.write_band(1,src.read(1).squeeze().astype(np.float64))"
   ]
  },
  {
   "cell_type": "code",
   "execution_count": null,
   "metadata": {
    "colab": {
     "base_uri": "https://localhost:8080/",
     "height": 72
    },
    "colab_type": "code",
    "id": "vp83Q7muDKHQ",
    "outputId": "258b8bfb-898b-4e70-d970-a1d7532208eb"
   },
   "outputs": [],
   "source": [
    "download_to_local(tile1_url, local_tile1_location)"
   ]
  },
  {
   "cell_type": "code",
   "execution_count": null,
   "metadata": {
    "colab": {
     "base_uri": "https://localhost:8080/",
     "height": 72
    },
    "colab_type": "code",
    "id": "CVDcRf53vDxv",
    "outputId": "5e08de3b-b640-49bd-8df7-e55cb9507e8a"
   },
   "outputs": [],
   "source": [
    "download_to_local(tile2_url, local_tile2_location)"
   ]
  },
  {
   "cell_type": "code",
   "execution_count": null,
   "metadata": {
    "colab": {
     "base_uri": "https://localhost:8080/",
     "height": 106
    },
    "colab_type": "code",
    "id": "o6lZEY6kfk6a",
    "outputId": "cab4f4a9-cde7-4287-a201-d36b4a35abfb"
   },
   "outputs": [],
   "source": [
    "# the files are really big, so we'll open them at half resolution each\n",
    "with rasterio.open(local_tile1_location) as src:\n",
    "  print(src.profile)\n",
    "  tile1 = src.read(1, out_shape=(int(src.height/2), int(src.width/2)), \n",
    "                   resampling=rasterio.enums.Resampling.bilinear)\n",
    "  tile1_transform = src.profile['transform']\n",
    "  \n",
    "with rasterio.open(local_tile2_location) as src:\n",
    "  print(src.profile)\n",
    "  tile2 = src.read(1, out_shape=(int(src.height/2), int(src.width/2)), \n",
    "                   resampling=rasterio.enums.Resampling.bilinear)\n",
    "  tile2_transform = src.profile['transform']\n",
    "  "
   ]
  },
  {
   "cell_type": "code",
   "execution_count": null,
   "metadata": {
    "colab": {
     "base_uri": "https://localhost:8080/",
     "height": 34
    },
    "colab_type": "code",
    "id": "7r-hnz4mFCUy",
    "outputId": "e9c61fed-71bc-4301-f745-4d8f3c6cde12"
   },
   "outputs": [],
   "source": [
    "print(tile1.shape, tile2.shape)"
   ]
  },
  {
   "cell_type": "code",
   "execution_count": null,
   "metadata": {
    "colab": {
     "base_uri": "https://localhost:8080/",
     "height": 612
    },
    "colab_type": "code",
    "id": "C8DsTupKIMjk",
    "outputId": "846f10e4-3a22-4be8-9e26-c341e3b6edf5"
   },
   "outputs": [],
   "source": [
    "fig = plt.figure(figsize=[10,10])\n",
    "ax1 = fig.add_subplot(2,1,1)\n",
    "rasterio.plot.show(tile1, ax=ax1, transform=tile1_transform)\n",
    "ax2 = fig.add_subplot(2,1,2)\n",
    "rasterio.plot.show(tile2, ax=ax2, transform=tile2_transform)\n"
   ]
  },
  {
   "cell_type": "markdown",
   "metadata": {
    "colab_type": "text",
    "id": "8BftmLWYqK8e"
   },
   "source": [
    "The second part looks weird, right? That's because it contains `nodata` values, which are `-3.4028234663853e+38`. That makes the low end way too low. \n",
    "\n",
    "Fortunately, there's a masking function that lest us select all of the non-nodata pixels"
   ]
  },
  {
   "cell_type": "code",
   "execution_count": null,
   "metadata": {
    "colab": {},
    "colab_type": "code",
    "id": "Xm55tQhGrcA0"
   },
   "outputs": [],
   "source": [
    "with rasterio.open(local_tile1_location) as src:\n",
    "  tile1_mask = src.read_masks(1, out_shape=(int(src.height/2), int(src.width/2)), \n",
    "                   resampling=rasterio.enums.Resampling.bilinear)\n",
    "  \n",
    "\n",
    "with rasterio.open(local_tile2_location) as src:\n",
    "  tile2_mask = src.read_masks(1, out_shape=(int(src.height/2), int(src.width/2)), \n",
    "                   resampling=rasterio.enums.Resampling.bilinear)\n",
    "  \n"
   ]
  },
  {
   "cell_type": "code",
   "execution_count": null,
   "metadata": {
    "colab": {
     "base_uri": "https://localhost:8080/",
     "height": 612
    },
    "colab_type": "code",
    "id": "Iuwq1VZ0Kw6u",
    "outputId": "8402e84c-3f2f-4555-dcea-3fb9f2c3b538"
   },
   "outputs": [],
   "source": [
    "# we use the np.ma.masked_where() function to mask out all the values equal to zero\n",
    "fig = plt.figure(figsize=[10,10])\n",
    "ax1 = fig.add_subplot(2,1,1)\n",
    "rasterio.plot.show(np.ma.masked_where(tile1_mask==0, tile1), ax=ax1, transform=tile1_transform)\n",
    "ax2 = fig.add_subplot(2,1,2)\n",
    "rasterio.plot.show(np.ma.masked_where(tile2_mask==0, tile2), ax=ax2, transform=tile2_transform)"
   ]
  },
  {
   "cell_type": "markdown",
   "metadata": {
    "colab_type": "text",
    "id": "3GIWF3rCytc1"
   },
   "source": [
    "Let's combine the two tiles together into one large mosaic and save it as a geotiff"
   ]
  },
  {
   "cell_type": "code",
   "execution_count": null,
   "metadata": {
    "colab": {},
    "colab_type": "code",
    "id": "fz-UeYPulS_b"
   },
   "outputs": [],
   "source": [
    "combined_location = 'combined.tif'"
   ]
  },
  {
   "cell_type": "code",
   "execution_count": null,
   "metadata": {
    "colab": {},
    "colab_type": "code",
    "id": "Kizksx4Oorhh"
   },
   "outputs": [],
   "source": [
    "with rasterio.open(local_tile1_location, 'r') as src1:\n",
    "  with rasterio.open(local_tile2_location, 'r') as src2:\n",
    "    combined, out_transform = rasterio.merge.merge([src1, src2],\n",
    "                                                   nodata=src2.profile['nodata'])\n",
    "    combined_meta = src1.meta.copy()\n",
    "    combined_meta.update({'driver':'GTiff',\n",
    "                     'count': combined.shape[0],\n",
    "                    'height': combined.shape[1],\n",
    "                    'width': combined.shape[2],\n",
    "                    'transform': out_transform,\n",
    "                    'crs': src1.crs})\n",
    "    with rasterio.open(combined_location, 'w', **combined_meta) as dst:\n",
    "      dst.write(combined)\n"
   ]
  },
  {
   "cell_type": "code",
   "execution_count": null,
   "metadata": {
    "colab": {
     "base_uri": "https://localhost:8080/",
     "height": 274
    },
    "colab_type": "code",
    "id": "vMvS0mSu98_F",
    "outputId": "09ca115c-70ce-486b-f954-4d680f5baa39"
   },
   "outputs": [],
   "source": [
    "with rasterio.open(combined_location, 'r') as src:\n",
    "  print(src.meta)\n",
    "  combined = src.read(1)\n",
    "  combined_mask = src.read_masks(1)\n",
    "  combined_transform = src.profile['transform']\n",
    "  rasterio.plot.show(np.ma.masked_where(combined_mask==0, combined), \n",
    "                     transform=combined_transform)"
   ]
  },
  {
   "cell_type": "code",
   "execution_count": null,
   "metadata": {
    "colab": {},
    "colab_type": "code",
    "id": "3V1Cc4-kDSGX"
   },
   "outputs": [],
   "source": [
    "camb_name = \"Cambridge, MA, USA\"\n",
    "graph_area_cambridge = ox.gdf_from_place(camb_name)\n",
    "bos_name = \"Boston, MA, USA\"\n",
    "graph_area_bos = ox.gdf_from_place(bos_name)\n",
    "local_areas = graph_area_bos.append(graph_area_cambridge, ignore_index=True)\n",
    "local_areas.to_crs(epsg=4269).to_file('local_areas.shp')"
   ]
  },
  {
   "cell_type": "code",
   "execution_count": null,
   "metadata": {
    "colab": {
     "base_uri": "https://localhost:8080/",
     "height": 219
    },
    "colab_type": "code",
    "id": "cRC9iX5ZCcmm",
    "outputId": "eac5e892-ed67-4b48-9d42-25615f51f251"
   },
   "outputs": [],
   "source": [
    "fig = plt.figure()\n",
    "ax = fig.add_subplot(1,1,1)\n",
    "p = rasterio.plot.show(np.ma.masked_where(combined_mask==0, combined), \n",
    "                       ax=ax, transform=combined_transform)\n",
    "graph_area_cambridge.to_crs(epsg=4269).plot(ax=ax, facecolor='none', edgecolor='red')\n",
    "graph_area_bos.to_crs(epsg=4269).plot(ax=ax, facecolor='none', edgecolor='magenta')\n",
    "plt.show()\n"
   ]
  },
  {
   "cell_type": "code",
   "execution_count": null,
   "metadata": {
    "colab": {
     "base_uri": "https://localhost:8080/",
     "height": 52
    },
    "colab_type": "code",
    "id": "fnOICRnvGO7U",
    "outputId": "7cfdb9c1-6224-4ae5-fd8f-1312184a2d0b"
   },
   "outputs": [],
   "source": [
    "rs.zonal_stats('local_areas.shp','combined.tif',stats='mean max')"
   ]
  },
  {
   "cell_type": "code",
   "execution_count": null,
   "metadata": {
    "colab": {},
    "colab_type": "code",
    "id": "f6pZklD6HZGh"
   },
   "outputs": [],
   "source": []
  }
 ],
 "metadata": {
  "colab": {
   "collapsed_sections": [],
   "include_colab_link": true,
   "name": "07b_Integrating_raster_and_vector_GIS_data.ipynb",
   "provenance": [],
   "version": "0.3.2"
  },
  "kernelspec": {
   "display_name": "Python 3",
   "language": "python",
   "name": "python3"
  },
  "language_info": {
   "codemirror_mode": {
    "name": "ipython",
    "version": 3
   },
   "file_extension": ".py",
   "mimetype": "text/x-python",
   "name": "python",
   "nbconvert_exporter": "python",
   "pygments_lexer": "ipython3",
   "version": "3.7.6"
  }
 },
 "nbformat": 4,
 "nbformat_minor": 4
}
